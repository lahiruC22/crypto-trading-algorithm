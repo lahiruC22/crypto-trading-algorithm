{
  "nbformat": 4,
  "nbformat_minor": 0,
  "metadata": {
    "colab": {
      "provenance": [],
      "include_colab_link": true
    },
    "kernelspec": {
      "name": "python3",
      "display_name": "Python 3"
    },
    "language_info": {
      "name": "python"
    }
  },
  "cells": [
    {
      "cell_type": "markdown",
      "metadata": {
        "id": "view-in-github",
        "colab_type": "text"
      },
      "source": [
        "<a href=\"https://colab.research.google.com/github/lahiruC22/crypto-trading-algorithm/blob/main/crypto_trading_algorithm.ipynb\" target=\"_parent\"><img src=\"https://colab.research.google.com/assets/colab-badge.svg\" alt=\"Open In Colab\"/></a>"
      ]
    },
    {
      "cell_type": "markdown",
      "source": [
        "## Cryptocurrency Trading Algorithm  \n",
        "### 1. Cryptocurrency\n",
        "The currencies you are familiar are known as *flat currencies.* They are issued by the government and central authority regulate and govern it's use. Eg: Central Bank.  \n",
        "Cryptocurrency has no central authority. All the transactions in regarding to the cryptocurrency are held in a ledger which is secured cryptographically.  \n",
        "### 2. Algorithmic Trading  \n",
        "This is a way to automate making decisions on when to buy or sell an asset based on some pre-programmed instructions and criteria.  \n",
        "\n",
        "In order to make a cryptocurrency trading algorithm, you should do the following tasks.  \n",
        "\n",
        "\n",
        "*   Fetch cryptocurrency market prices and data\n",
        "*   Perform basic analysis of market behaviour.\n",
        "*   Implement a simple algorithmic trading stradegy\n",
        "*   Analyze the performance of the trading algorithm."
      ],
      "metadata": {
        "id": "SnidLrfwucnK"
      }
    },
    {
      "cell_type": "markdown",
      "source": [
        "### Fetch Market Data  \n",
        "We use `yfinance` python library to easily access yahoo finance website and save the cryptocurrency market data."
      ],
      "metadata": {
        "id": "ebC7DaE05GS_"
      }
    },
    {
      "cell_type": "code",
      "execution_count": 1,
      "metadata": {
        "id": "8Oo7dLmDux41",
        "outputId": "6a22a735-21bc-4201-8796-a1d59ca95997",
        "colab": {
          "base_uri": "https://localhost:8080/"
        }
      },
      "outputs": [
        {
          "output_type": "stream",
          "name": "stdout",
          "text": [
            "Requirement already satisfied: yfinance in /usr/local/lib/python3.10/dist-packages (0.2.32)\n",
            "Requirement already satisfied: pandas>=1.3.0 in /usr/local/lib/python3.10/dist-packages (from yfinance) (1.5.3)\n",
            "Requirement already satisfied: numpy>=1.16.5 in /usr/local/lib/python3.10/dist-packages (from yfinance) (1.23.5)\n",
            "Requirement already satisfied: requests>=2.31 in /usr/local/lib/python3.10/dist-packages (from yfinance) (2.31.0)\n",
            "Requirement already satisfied: multitasking>=0.0.7 in /usr/local/lib/python3.10/dist-packages (from yfinance) (0.0.11)\n",
            "Requirement already satisfied: lxml>=4.9.1 in /usr/local/lib/python3.10/dist-packages (from yfinance) (4.9.3)\n",
            "Requirement already satisfied: appdirs>=1.4.4 in /usr/local/lib/python3.10/dist-packages (from yfinance) (1.4.4)\n",
            "Requirement already satisfied: pytz>=2022.5 in /usr/local/lib/python3.10/dist-packages (from yfinance) (2023.3.post1)\n",
            "Requirement already satisfied: frozendict>=2.3.4 in /usr/local/lib/python3.10/dist-packages (from yfinance) (2.3.10)\n",
            "Requirement already satisfied: peewee>=3.16.2 in /usr/local/lib/python3.10/dist-packages (from yfinance) (3.17.0)\n",
            "Requirement already satisfied: beautifulsoup4>=4.11.1 in /usr/local/lib/python3.10/dist-packages (from yfinance) (4.11.2)\n",
            "Requirement already satisfied: html5lib>=1.1 in /usr/local/lib/python3.10/dist-packages (from yfinance) (1.1)\n",
            "Requirement already satisfied: soupsieve>1.2 in /usr/local/lib/python3.10/dist-packages (from beautifulsoup4>=4.11.1->yfinance) (2.5)\n",
            "Requirement already satisfied: six>=1.9 in /usr/local/lib/python3.10/dist-packages (from html5lib>=1.1->yfinance) (1.16.0)\n",
            "Requirement already satisfied: webencodings in /usr/local/lib/python3.10/dist-packages (from html5lib>=1.1->yfinance) (0.5.1)\n",
            "Requirement already satisfied: python-dateutil>=2.8.1 in /usr/local/lib/python3.10/dist-packages (from pandas>=1.3.0->yfinance) (2.8.2)\n",
            "Requirement already satisfied: charset-normalizer<4,>=2 in /usr/local/lib/python3.10/dist-packages (from requests>=2.31->yfinance) (3.3.2)\n",
            "Requirement already satisfied: idna<4,>=2.5 in /usr/local/lib/python3.10/dist-packages (from requests>=2.31->yfinance) (3.6)\n",
            "Requirement already satisfied: urllib3<3,>=1.21.1 in /usr/local/lib/python3.10/dist-packages (from requests>=2.31->yfinance) (2.0.7)\n",
            "Requirement already satisfied: certifi>=2017.4.17 in /usr/local/lib/python3.10/dist-packages (from requests>=2.31->yfinance) (2023.11.17)\n"
          ]
        }
      ],
      "source": [
        "!pip install yfinance"
      ]
    },
    {
      "cell_type": "markdown",
      "source": [
        "Now, we need to import the necessary libraries as follows."
      ],
      "metadata": {
        "id": "xKg_ArxT7upM"
      }
    },
    {
      "cell_type": "code",
      "source": [
        "import yfinance as yf\n",
        "import numpy as np\n",
        "import pandas as pd\n",
        "import matplotlib.pyplot as plt\n",
        "from matplotlib.dates import DateFormatter"
      ],
      "metadata": {
        "id": "_waGKTQx7t5H"
      },
      "execution_count": 2,
      "outputs": []
    },
    {
      "cell_type": "markdown",
      "source": [
        "### Get familiar with Bitcoin-USD Exchange Rate Data  \n",
        "From the following way we can get the exchange rate of Bitcoin to US Dollars over the year of 2020. Here we specify the currency conversation, start date, end date and the time interval between datapoints. (we specify the interval for 1 day.)"
      ],
      "metadata": {
        "id": "urnxN6CA8ztE"
      }
    },
    {
      "cell_type": "code",
      "source": [],
      "metadata": {
        "id": "jDH_PjCS-F-m"
      },
      "execution_count": null,
      "outputs": []
    }
  ]
}